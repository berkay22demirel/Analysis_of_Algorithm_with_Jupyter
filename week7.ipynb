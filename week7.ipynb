{
 "cells": [
  {
   "cell_type": "code",
   "execution_count": 1,
   "metadata": {
    "collapsed": false
   },
   "outputs": [
    {
     "name": "stdout",
     "output_type": "stream",
     "text": [
      "Enter size of binary tree: 12\n",
      "Enter max value limit of tree: 50\n",
      "Printing Tree:\n",
      "9\n",
      "12\n",
      "16\n",
      "17\n",
      "22\n",
      "34\n",
      "37\n",
      "40\n",
      "44\n",
      "46\n",
      "49\n",
      "Sums of Depths:  28\n"
     ]
    }
   ],
   "source": [
    "import random\n",
    "\n",
    "\n",
    "class Node:\n",
    "    def __init__(self, data, depth = 0):\n",
    "\n",
    "        self.left = None\n",
    "        self.right = None\n",
    "        self.data = data\n",
    "        self.depth = depth\n",
    "\n",
    "    def insert(self, data):\n",
    "\n",
    "        if self.data:\n",
    "            if data < self.data:\n",
    "                if self.left is None:\n",
    "                    self.left = Node(data, self.depth + 1)\n",
    "                else:\n",
    "                    self.left.insert(data)\n",
    "            elif data > self.data:\n",
    "                if self.right is None:\n",
    "                    self.right = Node(data, self.depth + 1)\n",
    "                else:\n",
    "                    self.right.insert(data)\n",
    "        else:\n",
    "            self.data = data\n",
    "\n",
    "    def printTree(self):\n",
    "        if self.left:\n",
    "            self.left.printTree()\n",
    "        print(self.data)\n",
    "        if self.right:\n",
    "            self.right.printTree()\n",
    "\n",
    "    def getDepths(self, sums):\n",
    "        if self.left:\n",
    "            self.left.getDepths(sums)\n",
    "        sums.append(self.depth)\n",
    "        if self.right:\n",
    "            self.right.getDepths(sums)\n",
    "\n",
    "\n",
    "def fillBinaryTree(root, size, value):\n",
    "    for i in range(size - 1):\n",
    "        root.insert(random.randint(0, value))\n",
    "\n",
    "\n",
    "def getSumsOfDepths(root):\n",
    "    sums = []\n",
    "    root.getDepths(sums)\n",
    "    result = 0\n",
    "    for i in sums:\n",
    "        result += i\n",
    "    return result\n",
    "\n",
    "size_of_binary_tree = int(input(\"Enter size of binary tree: \"))\n",
    "max_value_limit_of_tree = int(input(\"Enter max value limit of tree: \"))\n",
    "\n",
    "root = Node(random.randint(0, max_value_limit_of_tree))\n",
    "\n",
    "fillBinaryTree(root, size_of_binary_tree, max_value_limit_of_tree)\n",
    "\n",
    "print(\"Printing Tree:\"), root.printTree()\n",
    "print(\"Sums of Depths: \", getSumsOfDepths(root))"
   ]
  },
  {
   "cell_type": "code",
   "execution_count": null,
   "metadata": {
    "collapsed": true
   },
   "outputs": [],
   "source": []
  }
 ],
 "metadata": {
  "kernelspec": {
   "display_name": "Python 3",
   "language": "python",
   "name": "python3"
  },
  "language_info": {
   "codemirror_mode": {
    "name": "ipython",
    "version": 3
   },
   "file_extension": ".py",
   "mimetype": "text/x-python",
   "name": "python",
   "nbconvert_exporter": "python",
   "pygments_lexer": "ipython3",
   "version": "3.6.0"
  }
 },
 "nbformat": 4,
 "nbformat_minor": 2
}
