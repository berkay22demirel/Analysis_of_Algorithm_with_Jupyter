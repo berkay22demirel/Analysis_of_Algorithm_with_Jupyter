{
 "cells": [
  {
   "cell_type": "code",
   "execution_count": 1,
   "metadata": {
    "collapsed": true
   },
   "outputs": [],
   "source": [
    "def createRandom(n):\n",
    "    import random\n",
    "    myarray=[]\n",
    "    for i in range(n):\n",
    "        myarray.append(random.randint(0,100))\n",
    "    return myarray"
   ]
  },
  {
   "cell_type": "code",
   "execution_count": 2,
   "metadata": {
    "collapsed": false
   },
   "outputs": [
    {
     "data": {
      "text/plain": [
       "[23, 27, 87, 12, 49]"
      ]
     },
     "execution_count": 2,
     "metadata": {},
     "output_type": "execute_result"
    }
   ],
   "source": [
    "createRandom(5)"
   ]
  },
  {
   "cell_type": "code",
   "execution_count": 3,
   "metadata": {
    "collapsed": true
   },
   "outputs": [],
   "source": [
    "def myBubble_Sort(my_array):\n",
    "    number_of_comparison=0\n",
    "    for passnum in range(len(my_array)-1,0,-1):\n",
    "        for i in range(passnum):\n",
    "            number_of_comparison=number_of_comparison+1\n",
    "            if my_array[i]>my_array[i+1]:\n",
    "                temp = my_array[i]\n",
    "                my_array[i] = my_array[i+1]\n",
    "                my_array[i+1] = temp\n",
    "    return (my_array,number_of_comparison)"
   ]
  },
  {
   "cell_type": "code",
   "execution_count": 4,
   "metadata": {
    "collapsed": true
   },
   "outputs": [],
   "source": [
    "def myInsertion_Sort(alist):\n",
    "    number_of_comparison=0\n",
    "    for index in range(1,len(alist)):\n",
    "        currentvalue = alist[index]\n",
    "        position = index\n",
    "    while position>0 and alist[position-1]>currentvalue:\n",
    "        number_of_comparison=number_of_comparison+1\n",
    "        alist[position]=alist[position-1]\n",
    "        position = position-1\n",
    "    alist[position]=currentvalue\n",
    "    return (alist,number_of_comparison)"
   ]
  },
  {
   "cell_type": "code",
   "execution_count": 5,
   "metadata": {
    "collapsed": false
   },
   "outputs": [
    {
     "name": "stdout",
     "output_type": "stream",
     "text": [
      "([3, 14, 24, 25, 34, 51, 63, 76, 78, 82], 45)\n",
      "([15, 29, 31, 45, 56, 73, 77, 92, 92, 97], 45)\n",
      "([25, 32, 39, 46, 48, 52, 61, 70, 76, 88], 45)\n"
     ]
    }
   ],
   "source": [
    "n=10\n",
    "for i in range(3):\n",
    "    print(myBubble_Sort(createRandom(n)))"
   ]
  },
  {
   "cell_type": "code",
   "execution_count": 6,
   "metadata": {
    "collapsed": false
   },
   "outputs": [
    {
     "name": "stdout",
     "output_type": "stream",
     "text": [
      "([5, 50, 3, 93, 1, 27, 75, 61, 68, 52], 4)\n",
      "([77, 27, 88, 94, 6, 4, 26, 89, 50, 69], 0)\n",
      "([41, 13, 93, 11, 11, 41, 22, 45, 66, 73], 2)\n"
     ]
    }
   ],
   "source": [
    "n=10\n",
    "for i in range(3):\n",
    "    print(myInsertion_Sort(createRandom(n)))"
   ]
  },
  {
   "cell_type": "code",
   "execution_count": 7,
   "metadata": {
    "collapsed": false
   },
   "outputs": [
    {
     "name": "stdout",
     "output_type": "stream",
     "text": [
      "sorted array :  [10, 19, 24, 41, 46, 51, 57, 67, 75, 93]\n",
      "number of comparison 45\n"
     ]
    }
   ],
   "source": [
    "my_array_1=createRandom(10)\n",
    "result=myBubble_Sort(my_array_1)\n",
    "print(\"sorted array : \",result[0])\n",
    "print(\"number of comparison\",result[1])"
   ]
  },
  {
   "cell_type": "code",
   "execution_count": 8,
   "metadata": {
    "collapsed": false
   },
   "outputs": [
    {
     "name": "stdout",
     "output_type": "stream",
     "text": [
      "----------bubbleSort----------------\n",
      "----------old list baby-------------\n",
      "[7, 4, 0, 9, 3, 6, 8, 0, 9, 3, 7, 8, 6, 7, 1, 2, 6, 0, 1, 8, 7, 6, 0, 0, 8, 1, 4, 1, 2, 6]\n",
      "----------new list baby-------------\n",
      "\n",
      "[0, 0, 0, 0, 0, 1, 1, 1, 1, 2, 2, 3, 3, 4, 4, 6, 6, 6, 6, 6, 7, 7, 7, 7, 8, 8, 8, 8, 9, 9]\n",
      "----------step =  231 ------\n",
      "\n",
      "----------insertionSort-------------\n",
      "----------old list baby-------------\n",
      "[9, 9, 8, 1, 4, 1, 2, 4, 5, 1, 0, 0, 0, 7, 2, 7, 5, 1, 5, 7, 3, 8, 0, 6, 2, 3, 5, 9, 5, 1]\n",
      "----------new list baby-------------\n",
      "[0, 0, 0, 0, 1, 1, 1, 1, 1, 2, 2, 2, 3, 3, 4, 4, 5, 5, 5, 5, 5, 6, 7, 7, 7, 8, 8, 9, 9, 9]\n",
      "----------step =  200 -------\n"
     ]
    }
   ],
   "source": [
    "from random import randrange\n",
    "\n",
    "def createRandomList(n):\n",
    "    myarray = []\n",
    "    for i in range(n):\n",
    "        foo = [0,1,2,3,4,5,6,7,8,9]\n",
    "        random_index = randrange(0,len(foo))\n",
    "        myarray.append(foo[random_index])\n",
    "    return myarray\n",
    "\n",
    "def bubbleSort(alist):\n",
    "    step = 0\n",
    "    for passnum in range(len(alist)-1,0,-1):\n",
    "        for i in range(passnum):\n",
    "            if alist[i]>alist[i+1]:\n",
    "                step += 1\n",
    "                temp = alist[i]\n",
    "                alist[i] = alist[i+1]\n",
    "                alist[i+1] = temp\n",
    "    return step\n",
    "def insertionSort(alist):\n",
    "   step = 0\n",
    "   for index in range(1,len(alist)):\n",
    "     currentvalue = alist[index]\n",
    "     position = index\n",
    "     while position>0 and alist[position-1]>currentvalue:\n",
    "         step += 1\n",
    "         alist[position]=alist[position-1]\n",
    "         position = position-1\n",
    "     alist[position]=currentvalue\n",
    "   return step\n",
    "\n",
    "newArray = createRandomList(30)\n",
    "print(\"----------bubbleSort----------------\")\n",
    "print(\"----------old list baby-------------\")\n",
    "print(newArray)\n",
    "step = bubbleSort(newArray)\n",
    "print(\"----------new list baby-------------\\n\")\n",
    "print(newArray)\n",
    "print(\"----------step = \" , step , \"------\\n\")\n",
    "\n",
    "newArray = createRandomList(30)\n",
    "print(\"----------insertionSort-------------\")\n",
    "print(\"----------old list baby-------------\")\n",
    "print(newArray)\n",
    "step = insertionSort(newArray)\n",
    "print(\"----------new list baby-------------\")\n",
    "print(newArray)\n",
    "print(\"----------step = \" , step , \"-------\")"
   ]
  },
  {
   "cell_type": "code",
   "execution_count": null,
   "metadata": {
    "collapsed": true
   },
   "outputs": [],
   "source": []
  }
 ],
 "metadata": {
  "kernelspec": {
   "display_name": "Python 3",
   "language": "python",
   "name": "python3"
  },
  "language_info": {
   "codemirror_mode": {
    "name": "ipython",
    "version": 3
   },
   "file_extension": ".py",
   "mimetype": "text/x-python",
   "name": "python",
   "nbconvert_exporter": "python",
   "pygments_lexer": "ipython3",
   "version": "3.6.0"
  }
 },
 "nbformat": 4,
 "nbformat_minor": 2
}
