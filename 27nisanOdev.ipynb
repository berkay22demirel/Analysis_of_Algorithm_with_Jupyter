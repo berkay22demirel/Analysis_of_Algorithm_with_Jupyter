{
 "cells": [
  {
   "cell_type": "code",
   "execution_count": 3,
   "metadata": {
    "collapsed": true
   },
   "outputs": [],
   "source": [
    "def determinantHesapla(matris):\n",
    "    n = len(matris)\n",
    "    if (n > 2):\n",
    "        i = 1\n",
    "        t = 0\n",
    "        toplam = 0\n",
    "        while t <= n-1:\n",
    "            d = {}\n",
    "            t1 = 1\n",
    "            while t1 <= n-1:\n",
    "                m = 0\n",
    "                d[t1] = []\n",
    "                while m <= n-1:\n",
    "                    if (m == t):\n",
    "                        u=0\n",
    "                    else:\n",
    "                        d[t1].append(matris[t1][m])\n",
    "                    m += 1\n",
    "                t1 += 1\n",
    "            mat1 = [d[x] for x in d]\n",
    "            toplam = toplam + i*(matris[0][t])*(determinant(mat1))\n",
    "            i = i*(-1)\n",
    "            t += 1\n",
    "        return toplam\n",
    "    else:\n",
    "        return (matris[0][0]*matris[1][1]-matris[0][1]*matris[1][0])"
   ]
  },
  {
   "cell_type": "code",
   "execution_count": 4,
   "metadata": {
    "collapsed": false
   },
   "outputs": [
    {
     "data": {
      "text/plain": [
       "16"
      ]
     },
     "execution_count": 4,
     "metadata": {},
     "output_type": "execute_result"
    }
   ],
   "source": [
    "matris = [[4,-1,1],[4,5,3],[-2,0,0]]\n",
    "determinantHesapla(matris)"
   ]
  },
  {
   "cell_type": "code",
   "execution_count": null,
   "metadata": {
    "collapsed": true
   },
   "outputs": [],
   "source": []
  }
 ],
 "metadata": {
  "kernelspec": {
   "display_name": "Python 3",
   "language": "python",
   "name": "python3"
  },
  "language_info": {
   "codemirror_mode": {
    "name": "ipython",
    "version": 3
   },
   "file_extension": ".py",
   "mimetype": "text/x-python",
   "name": "python",
   "nbconvert_exporter": "python",
   "pygments_lexer": "ipython3",
   "version": "3.6.0"
  }
 },
 "nbformat": 4,
 "nbformat_minor": 2
}
