{
 "cells": [
  {
   "cell_type": "code",
   "execution_count": 3,
   "metadata": {
    "collapsed": false
   },
   "outputs": [
    {
     "name": "stdout",
     "output_type": "stream",
     "text": [
      "[[1, 2, 5, 4], [0.0, -3.0, -13.0, -13.0], [0.0, 0.0, -7.0, -10.0], [0.0, 0.0, 0.0, 8.714285714285715]]\n",
      "[[1.0, 0.0, 0.0, 0.0], [0.0, 1.0, 0.0, 0.0], [0.0, 0.0, 1.0, 0.0], [0.0, 0.0, 0.0, 1.0]]\n"
     ]
    }
   ],
   "source": [
    "def reduce(matris):\n",
    "    for i in range(min(len(matris), len(matris[0]))):\n",
    "        for r in range(i, len(matris)):\n",
    "            row = matris[r][i] == 0\n",
    "            if row:\n",
    "                continue\n",
    "            matris[i], matris[r] = matris[r], matris[i]\n",
    "            first_r_first_c = matris[i][i]\n",
    "            for r in range(i + 1, len(matris)):\n",
    "                row_first = matris[r][i]\n",
    "                multiple = -1 * row_first / first_r_first_c\n",
    "                for c in range(i, len(matris[0])):\n",
    "                    matris[r][c] += matris[i][c] * multiple\n",
    "            break\n",
    "\n",
    "    print(matris)\n",
    "    for i in range(min(len(matris), len(matris[0])) - 1, -1, -1):\n",
    "        first_e_col = -1\n",
    "        first_e = -1\n",
    "        for c in range(len(matris[0])):\n",
    "            if matris[i][c] == 0:\n",
    "                continue\n",
    "            if first_e_col == -1:\n",
    "                first_e_col = c\n",
    "                first_e = matris[i][c]\n",
    "            matris[i][c] /= first_e\n",
    "        for r in range(i):\n",
    "            row_a = matris[r][first_e_col]\n",
    "            multiple = -1 * row_a\n",
    "            for c in range(len(matris[0])):\n",
    "                matris[r][c] += matris[i][c] * multiple\n",
    "    print(matris)\n",
    "    \n",
    "a = [[1, 2, 5, 4], [4, 5, 7, 3], [3, 6, 8, 2],[6, 8, 4, 3]]\n",
    "reduce(a)\n",
    "\n",
    "b = [[1],[1],[1],[1]]"
   ]
  },
  {
   "cell_type": "code",
   "execution_count": null,
   "metadata": {
    "collapsed": true
   },
   "outputs": [],
   "source": []
  }
 ],
 "metadata": {
  "kernelspec": {
   "display_name": "Python 3",
   "language": "python",
   "name": "python3"
  },
  "language_info": {
   "codemirror_mode": {
    "name": "ipython",
    "version": 3
   },
   "file_extension": ".py",
   "mimetype": "text/x-python",
   "name": "python",
   "nbconvert_exporter": "python",
   "pygments_lexer": "ipython3",
   "version": "3.6.0"
  }
 },
 "nbformat": 4,
 "nbformat_minor": 2
}
