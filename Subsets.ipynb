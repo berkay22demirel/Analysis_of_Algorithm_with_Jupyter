{
 "cells": [
  {
   "cell_type": "code",
   "execution_count": 11,
   "metadata": {
    "collapsed": false
   },
   "outputs": [
    {
     "data": {
      "text/plain": [
       "([[1, 2, 3, 4],\n",
       "  [2, 3, 4],\n",
       "  [3, 4],\n",
       "  [4],\n",
       "  [],\n",
       "  [3],\n",
       "  [2, 4],\n",
       "  [2],\n",
       "  [2, 3],\n",
       "  [1, 3, 4],\n",
       "  [1, 4],\n",
       "  [1],\n",
       "  [1, 3],\n",
       "  [1, 2, 4],\n",
       "  [1, 2],\n",
       "  [1, 2, 3]],\n",
       " 16)"
      ]
     },
     "execution_count": 11,
     "metadata": {},
     "output_type": "execute_result"
    }
   ],
   "source": [
    "def subsets(array):\n",
    "    if array == []:\n",
    "        return [array]\n",
    "    sets = [array]\n",
    "    for i in range(0, len(array)):\n",
    "        tmp_subsets = subsets(array[:i] + array[i+1:])\n",
    "        for subset in tmp_subsets:\n",
    "            if subset not in sets:\n",
    "                sets.append(subset)\n",
    "    return sets\n",
    "\n",
    "x = [1,2,3,4]\n",
    "\n",
    "x = subsets(x)\n",
    "x,len(x)"
   ]
  },
  {
   "cell_type": "code",
   "execution_count": null,
   "metadata": {
    "collapsed": true
   },
   "outputs": [],
   "source": []
  }
 ],
 "metadata": {
  "kernelspec": {
   "display_name": "Python 3",
   "language": "python",
   "name": "python3"
  },
  "language_info": {
   "codemirror_mode": {
    "name": "ipython",
    "version": 3
   },
   "file_extension": ".py",
   "mimetype": "text/x-python",
   "name": "python",
   "nbconvert_exporter": "python",
   "pygments_lexer": "ipython3",
   "version": "3.6.0"
  }
 },
 "nbformat": 4,
 "nbformat_minor": 2
}
