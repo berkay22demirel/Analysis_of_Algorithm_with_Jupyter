{
 "cells": [
  {
   "cell_type": "code",
   "execution_count": 1,
   "metadata": {
    "collapsed": true
   },
   "outputs": [],
   "source": [
    "import numpy as np\n",
    "import matplotlib.pyplot as plt"
   ]
  },
  {
   "cell_type": "code",
   "execution_count": 4,
   "metadata": {
    "collapsed": true
   },
   "outputs": [],
   "source": [
    "def estimate_coef(x, y):\n",
    "    n = np.size(x)\n",
    "    \n",
    "    m_x, m_y = np.mean(x), np.mean(y)\n",
    "    \n",
    "    SS_xy = np.sum(y*x - n*m_y*m_x)\n",
    "    SS_xx = np.sum(x*x - n*m_x*m_x)\n",
    "    \n",
    "    a = SS_xy / SS_xx\n",
    "    b = m_y - a*m_x\n",
    "    \n",
    "    return(b, a)"
   ]
  },
  {
   "cell_type": "code",
   "execution_count": 5,
   "metadata": {
    "collapsed": true
   },
   "outputs": [],
   "source": [
    "def plot_regression_line(x, y, b):\n",
    "    \n",
    "    plt.scatter(x, y, color = \"m\",\n",
    "    marker = \"o\", s = 30)\n",
    "    \n",
    "    y_pred = b[0] + b[1]*x\n",
    "    \n",
    "    plt.plot(x, y_pred, color = \"g\")\n",
    "    \n",
    "    plt.xlabel('x')\n",
    "    plt.ylabel('y')\n",
    "    \n",
    "    plt.show()"
   ]
  },
  {
   "cell_type": "code",
   "execution_count": 7,
   "metadata": {
    "collapsed": false
   },
   "outputs": [
    {
     "name": "stdout",
     "output_type": "stream",
     "text": [
      "Tahmini Katsayılar (ax+b) \n",
      " b = -0.1077586206896548 \n",
      " a = 1.335057471264368\n"
     ]
    },
    {
     "data": {
      "image/png": "[encoded data removed]",
      "text/plain": [
       "<matplotlib.figure.Figure at 0x1dde2ed6438>"
      ]
     },
     "metadata": {},
     "output_type": "display_data"
    }
   ],
   "source": [
    "def main():\n",
    "    x = np.array([0, 1, 2, 3, 4, 5, 6, 7, 8, 9])\n",
    "    y = np.array([1, 3, 5, 5, 7, 4, 8, 9, 8, 9])\n",
    "\n",
    "    b = estimate_coef(x, y)\n",
    "    print(\"Tahmini Katsayılar (ax+b) \\n b = {} \\n a = {}\".format(b[0], b[1]))\n",
    "\n",
    "    plot_regression_line(x, y, b)\n",
    "    \n",
    "if __name__ == \"__main__\":\n",
    "    main()"
   ]
  },
  {
   "cell_type": "code",
   "execution_count": null,
   "metadata": {
    "collapsed": true
   },
   "outputs": [],
   "source": []
  }
 ],
 "metadata": {
  "kernelspec": {
   "display_name": "Python 3",
   "language": "python",
   "name": "python3"
  },
  "language_info": {
   "codemirror_mode": {
    "name": "ipython",
    "version": 3
   },
   "file_extension": ".py",
   "mimetype": "text/x-python",
   "name": "python",
   "nbconvert_exporter": "python",
   "pygments_lexer": "ipython3",
   "version": "3.6.0"
  }
 },
 "nbformat": 4,
 "nbformat_minor": 2
}
