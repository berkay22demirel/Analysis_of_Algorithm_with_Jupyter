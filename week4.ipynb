{
 "cells": [
  {
   "cell_type": "code",
   "execution_count": 1,
   "metadata": {
    "collapsed": false
   },
   "outputs": [
    {
     "name": "stdout",
     "output_type": "stream",
     "text": [
      "List: []\n",
      "current size of object list: 64\n",
      "adding 0\n",
      "\n",
      "List: [0]\n",
      "current size of object list: 96\n",
      "adding 1\n",
      "\n",
      "List: [0, 1]\n",
      "current size of object list: 96\n",
      "adding 2\n",
      "\n",
      "List: [0, 1, 2]\n",
      "current size of object list: 96\n",
      "adding 3\n",
      "\n",
      "List: [0, 1, 2, 3]\n",
      "current size of object list: 96\n",
      "adding 4\n",
      "\n",
      "List: [0, 1, 2, 3, 4]\n",
      "current size of object list: 128\n",
      "adding 5\n",
      "\n",
      "List: [0, 1, 2, 3, 4, 5]\n",
      "current size of object list: 128\n",
      "adding 6\n",
      "\n",
      "List: [0, 1, 2, 3, 4, 5, 6]\n",
      "current size of object list: 128\n",
      "adding 7\n",
      "\n",
      "List: [0, 1, 2, 3, 4, 5, 6, 7]\n",
      "current size of object list: 128\n",
      "adding 8\n",
      "\n",
      "List: [0, 1, 2, 3, 4, 5, 6, 7, 8]\n",
      "current size of object list: 192\n",
      "adding 9\n",
      "\n",
      "List: [0, 1, 2, 3, 4, 5, 6, 7, 8, 9]\n",
      "current size of object list: 192 \n"
     ]
    }
   ],
   "source": [
    "import sys\n",
    "\n",
    "list1 = []\n",
    "liste1_size = 10\n",
    "\n",
    "for i in range(liste1_size):\n",
    "    print(\"List: {}\".format(list1))\n",
    "    print(\"current size of object list: {}\".format(sys.getsizeof(list1)))\n",
    "    print(\"adding {}\\n\".format(i))\n",
    "    list1.append(i)\n",
    "\n",
    "print(\"List: {}\".format(list1))\n",
    "print(\"current size of object list: {} \".format(sys.getsizeof(list1)))"
   ]
  },
  {
   "cell_type": "code",
   "execution_count": null,
   "metadata": {
    "collapsed": true
   },
   "outputs": [],
   "source": []
  }
 ],
 "metadata": {
  "kernelspec": {
   "display_name": "Python 3",
   "language": "python",
   "name": "python3"
  },
  "language_info": {
   "codemirror_mode": {
    "name": "ipython",
    "version": 3
   },
   "file_extension": ".py",
   "mimetype": "text/x-python",
   "name": "python",
   "nbconvert_exporter": "python",
   "pygments_lexer": "ipython3",
   "version": "3.6.0"
  }
 },
 "nbformat": 4,
 "nbformat_minor": 2
}
